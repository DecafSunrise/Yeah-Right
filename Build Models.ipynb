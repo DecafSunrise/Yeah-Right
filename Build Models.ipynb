{
 "cells": [
  {
   "cell_type": "code",
   "execution_count": 23,
   "id": "9feb7b98",
   "metadata": {},
   "outputs": [],
   "source": [
    "%matplotlib inline\n",
    "\n",
    "import bz2\n",
    "import json\n",
    "# import matplotlib.pyplot as plt\n",
    "import pandas as pd\n",
    "# import seaborn as sns\n",
    "\n",
    "# from collections import Counter\n",
    "# from lime.lime_text import LimeTextExplainer\n",
    "from sklearn.feature_extraction.text import TfidfVectorizer\n",
    "from sklearn.feature_extraction.text import ENGLISH_STOP_WORDS\n",
    "from sklearn.linear_model import LogisticRegression\n",
    "from sklearn.metrics import accuracy_score, f1_score\n",
    "from sklearn.pipeline import make_pipeline\n",
    "from sklearn.dummy import DummyClassifier\n",
    "from sklearn.ensemble import RandomForestClassifier\n",
    "\n",
    "import pickle"
   ]
  },
  {
   "cell_type": "code",
   "execution_count": 24,
   "id": "dabb24d8",
   "metadata": {},
   "outputs": [],
   "source": [
    "RANDOM_SEED = 42"
   ]
  },
  {
   "cell_type": "code",
   "execution_count": 25,
   "id": "2d2032d4",
   "metadata": {},
   "outputs": [],
   "source": [
    "train_df = pd.read_csv('assets/sarcasm.train.tsv.gz', sep='\\t', compression='gzip').dropna()\n",
    "test_imb_df = pd.read_csv('assets/sarcasm.test-imb.tsv.gz', sep='\\t', compression='gzip').dropna()\n",
    "test_bal_df = pd.read_csv('assets/sarcasm.test-bal.tsv.gz', sep='\\t', compression='gzip').dropna()"
   ]
  },
  {
   "cell_type": "code",
   "execution_count": 26,
   "id": "73a705cb",
   "metadata": {},
   "outputs": [],
   "source": [
    "y_train = train_df['label']\n",
    "y_test_imb = test_imb_df['label']\n",
    "y_test_bal = test_bal_df['label'] "
   ]
  },
  {
   "cell_type": "code",
   "execution_count": 27,
   "id": "803a4846",
   "metadata": {},
   "outputs": [],
   "source": [
    "vectorizer = TfidfVectorizer(min_df=100, stop_words=ENGLISH_STOP_WORDS, ngram_range=(1,4))\n",
    "\n",
    "X_train = vectorizer.fit_transform(train_df['text'])\n",
    "X_test_bal = vectorizer.transform(test_bal_df['text'])\n",
    "X_test_imb = vectorizer.transform(test_imb_df['text'])"
   ]
  },
  {
   "cell_type": "code",
   "execution_count": 28,
   "id": "ad1b98b7",
   "metadata": {},
   "outputs": [],
   "source": [
    "lr_clf = LogisticRegression(solver='lbfgs', multi_class='auto', random_state=RANDOM_SEED)\n",
    "rf_clf = RandomForestClassifier(n_estimators=50, max_depth=15, random_state=RANDOM_SEED)"
   ]
  },
  {
   "cell_type": "code",
   "execution_count": 41,
   "id": "5b2f58f4",
   "metadata": {},
   "outputs": [
    {
     "name": "stdout",
     "output_type": "stream",
     "text": [
      "started fitting\n",
      "finished fitting\n"
     ]
    }
   ],
   "source": [
    "print('started fitting')\n",
    "lr_clf = lr_clf.fit(X_train, y_train)\n",
    "rf_clf = rf_clf.fit(X_train, y_train)\n",
    "print('finished fitting')"
   ]
  },
  {
   "cell_type": "code",
   "execution_count": 30,
   "id": "86bc61b3",
   "metadata": {},
   "outputs": [],
   "source": [
    "random_clf = DummyClassifier(strategy='uniform', random_state=RANDOM_SEED).fit(X_train, y_train)"
   ]
  },
  {
   "cell_type": "markdown",
   "id": "a5196f09",
   "metadata": {},
   "source": [
    "## Predict and score"
   ]
  },
  {
   "cell_type": "code",
   "execution_count": 31,
   "id": "93ee365b",
   "metadata": {},
   "outputs": [],
   "source": [
    "y_pred_bal = lr_clf.predict(X_test_bal)\n",
    "y_pred_imb = lr_clf.predict(X_test_imb)\n",
    "rf_y_pred_bal = rf_clf.predict(X_test_bal)\n",
    "rf_y_pred_imb = rf_clf.predict(X_test_imb)\n",
    "random_y_pred_bal = random_clf.predict(X_test_bal)\n",
    "random_y_pred_imb = random_clf.predict(X_test_imb)"
   ]
  },
  {
   "cell_type": "code",
   "execution_count": 32,
   "id": "1d9cd9b5",
   "metadata": {},
   "outputs": [],
   "source": [
    "lr_bal_f1 = f1_score(y_test_bal, y_pred_bal)\n",
    "lr_imb_f1 = f1_score(y_test_imb, y_pred_imb)\n",
    "rf_bal_f1 = f1_score(y_test_bal, rf_y_pred_bal) \n",
    "rf_imb_f1 = f1_score(y_test_imb, rf_y_pred_imb) \n",
    "rand_bal_f1 = f1_score(y_test_bal, random_y_pred_bal) \n",
    "rand_imb_f1 = f1_score(y_test_imb, random_y_pred_imb)"
   ]
  },
  {
   "cell_type": "code",
   "execution_count": 33,
   "id": "7a830d1a",
   "metadata": {},
   "outputs": [
    {
     "name": "stdout",
     "output_type": "stream",
     "text": [
      "0.09441458712139227\n",
      "0.11707638410635686\n",
      "0.05049984866759725\n",
      "0.6045505212772933\n",
      "0.45640737737300646\n",
      "0.501399563892798\n"
     ]
    }
   ],
   "source": [
    "print(lr_imb_f1)\n",
    "print(rf_imb_f1) \n",
    "print(rand_imb_f1)\n",
    "print(lr_bal_f1) \n",
    "print(rf_bal_f1) \n",
    "print(rand_bal_f1)"
   ]
  },
  {
   "cell_type": "markdown",
   "id": "b742895c",
   "metadata": {},
   "source": [
    "## Save models"
   ]
  },
  {
   "cell_type": "raw",
   "id": "15b07c36",
   "metadata": {},
   "source": [
    "with open(\"././models/sarcasm_vectorizer.pkl\", 'wb') as f:\n",
    "    pickle.dump(vectorizer, f)"
   ]
  },
  {
   "cell_type": "raw",
   "id": "460592f2",
   "metadata": {},
   "source": [
    "with open(\"././models/logreg_clf.pkl\", 'wb') as f:\n",
    "    pickle.dump(lr_clf, f)"
   ]
  },
  {
   "cell_type": "raw",
   "id": "016d9bfa",
   "metadata": {},
   "source": [
    "with open(\"././models/rf_clf.pkl\", 'wb') as f:\n",
    "    pickle.dump(rf_clf, f)"
   ]
  },
  {
   "cell_type": "code",
   "execution_count": 45,
   "id": "e2ddf0e2",
   "metadata": {},
   "outputs": [],
   "source": [
    "from joblib import dump, load"
   ]
  },
  {
   "cell_type": "code",
   "execution_count": 46,
   "id": "c84ef4b5",
   "metadata": {},
   "outputs": [
    {
     "data": {
      "text/plain": [
       "['././models/sarcasm_vectorizer.joblib']"
      ]
     },
     "execution_count": 46,
     "metadata": {},
     "output_type": "execute_result"
    }
   ],
   "source": [
    "dump(vectorizer, '././models/sarcasm_vectorizer.joblib') "
   ]
  },
  {
   "cell_type": "code",
   "execution_count": 47,
   "id": "c5f0ca6f",
   "metadata": {},
   "outputs": [
    {
     "data": {
      "text/plain": [
       "['././models/logreg_clf.pkl']"
      ]
     },
     "execution_count": 47,
     "metadata": {},
     "output_type": "execute_result"
    }
   ],
   "source": [
    "dump(lr_clf, \"././models/logreg_clf.pkl\") "
   ]
  },
  {
   "cell_type": "code",
   "execution_count": 48,
   "id": "eaa799d2",
   "metadata": {},
   "outputs": [
    {
     "data": {
      "text/plain": [
       "['././models/rf_clf.pkl']"
      ]
     },
     "execution_count": 48,
     "metadata": {},
     "output_type": "execute_result"
    }
   ],
   "source": [
    "dump(rf_clf, \"././models/rf_clf.pkl\") "
   ]
  },
  {
   "cell_type": "code",
   "execution_count": null,
   "id": "0768db75",
   "metadata": {},
   "outputs": [],
   "source": []
  }
 ],
 "metadata": {
  "kernelspec": {
   "display_name": "NLP",
   "language": "python",
   "name": "nlp"
  },
  "language_info": {
   "codemirror_mode": {
    "name": "ipython",
    "version": 3
   },
   "file_extension": ".py",
   "mimetype": "text/x-python",
   "name": "python",
   "nbconvert_exporter": "python",
   "pygments_lexer": "ipython3",
   "version": "3.8.11"
  }
 },
 "nbformat": 4,
 "nbformat_minor": 5
}
